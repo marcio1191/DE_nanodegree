{
 "cells": [
  {
   "cell_type": "markdown",
   "metadata": {
    "editable": true
   },
   "source": [
    "# ETL Processes\n",
    "Use this notebook to develop the ETL process for each of your tables before completing the `etl.py` file to load the whole datasets."
   ]
  },
  {
   "cell_type": "code",
   "execution_count": 1,
   "metadata": {
    "editable": true
   },
   "outputs": [],
   "source": [
    "import os\n",
    "import glob\n",
    "import psycopg2\n",
    "import pandas as pd\n",
    "from sql_queries import *"
   ]
  },
  {
   "cell_type": "code",
   "execution_count": 2,
   "metadata": {
    "editable": true
   },
   "outputs": [
    {
     "data": {
      "text/plain": [
       "'INSERT INTO users (user_id, first_name, last_name, gender, level) VALUES (%s, %s, %s, %s, %s)ON CONFLICT (user_id) DO NOTHING ;'"
      ]
     },
     "execution_count": 2,
     "metadata": {},
     "output_type": "execute_result"
    }
   ],
   "source": [
    "user_table_insert"
   ]
  },
  {
   "cell_type": "code",
   "execution_count": 3,
   "metadata": {
    "editable": true
   },
   "outputs": [],
   "source": [
    "conn = psycopg2.connect(\"host=127.0.0.1 dbname=sparkifydb user=student password=student\")\n",
    "cur = conn.cursor()"
   ]
  },
  {
   "cell_type": "code",
   "execution_count": 4,
   "metadata": {
    "editable": true
   },
   "outputs": [],
   "source": [
    "def get_files(filepath):\n",
    "    all_files = []\n",
    "    for root, dirs, files in os.walk(filepath):\n",
    "        files = glob.glob(os.path.join(root,'*.json'))\n",
    "        for f in files :\n",
    "            all_files.append(os.path.abspath(f))\n",
    "    \n",
    "    return all_files"
   ]
  },
  {
   "cell_type": "markdown",
   "metadata": {
    "editable": true
   },
   "source": [
    "# Process `song_data`\n",
    "In this first part, you'll perform ETL on the first dataset, `song_data`, to create the `songs` and `artists` dimensional tables.\n",
    "\n",
    "Let's perform ETL on a single song file and load a single record into each table to start.\n",
    "- Use the `get_files` function provided above to get a list of all song JSON files in `data/song_data`\n",
    "- Select the first song in this list\n",
    "- Read the song file and view the data"
   ]
  },
  {
   "cell_type": "code",
   "execution_count": 5,
   "metadata": {
    "editable": true
   },
   "outputs": [],
   "source": [
    "song_files = get_files('./data/song_data')"
   ]
  },
  {
   "cell_type": "code",
   "execution_count": 6,
   "metadata": {
    "editable": true
   },
   "outputs": [],
   "source": [
    "filepath = song_files[0]"
   ]
  },
  {
   "cell_type": "code",
   "execution_count": 8,
   "metadata": {
    "editable": true
   },
   "outputs": [
    {
     "data": {
      "text/html": [
       "<div>\n",
       "<style scoped>\n",
       "    .dataframe tbody tr th:only-of-type {\n",
       "        vertical-align: middle;\n",
       "    }\n",
       "\n",
       "    .dataframe tbody tr th {\n",
       "        vertical-align: top;\n",
       "    }\n",
       "\n",
       "    .dataframe thead th {\n",
       "        text-align: right;\n",
       "    }\n",
       "</style>\n",
       "<table border=\"1\" class=\"dataframe\">\n",
       "  <thead>\n",
       "    <tr style=\"text-align: right;\">\n",
       "      <th></th>\n",
       "      <th>artist_id</th>\n",
       "      <th>artist_latitude</th>\n",
       "      <th>artist_location</th>\n",
       "      <th>artist_longitude</th>\n",
       "      <th>artist_name</th>\n",
       "      <th>duration</th>\n",
       "      <th>num_songs</th>\n",
       "      <th>song_id</th>\n",
       "      <th>title</th>\n",
       "      <th>year</th>\n",
       "    </tr>\n",
       "  </thead>\n",
       "  <tbody>\n",
       "    <tr>\n",
       "      <th>0</th>\n",
       "      <td>ARD7TVE1187B99BFB1</td>\n",
       "      <td>NaN</td>\n",
       "      <td>California - LA</td>\n",
       "      <td>NaN</td>\n",
       "      <td>Casual</td>\n",
       "      <td>218.93179</td>\n",
       "      <td>1</td>\n",
       "      <td>SOMZWCG12A8C13C480</td>\n",
       "      <td>I Didn't Mean To</td>\n",
       "      <td>0</td>\n",
       "    </tr>\n",
       "  </tbody>\n",
       "</table>\n",
       "</div>"
      ],
      "text/plain": [
       "            artist_id  artist_latitude  artist_location  artist_longitude  \\\n",
       "0  ARD7TVE1187B99BFB1              NaN  California - LA               NaN   \n",
       "\n",
       "  artist_name   duration  num_songs             song_id             title  \\\n",
       "0      Casual  218.93179          1  SOMZWCG12A8C13C480  I Didn't Mean To   \n",
       "\n",
       "   year  \n",
       "0     0  "
      ]
     },
     "execution_count": 8,
     "metadata": {},
     "output_type": "execute_result"
    }
   ],
   "source": [
    "df = pd.read_json(filepath, lines=True)\n",
    "df.head()"
   ]
  },
  {
   "cell_type": "markdown",
   "metadata": {
    "editable": true
   },
   "source": [
    "## #1: `songs` Table\n",
    "#### Extract Data for Songs Table\n",
    "- Select columns for song ID, title, artist ID, year, and duration\n",
    "- Use `df.values` to select just the values from the dataframe\n",
    "- Index to select the first (only) record in the dataframe\n",
    "- Convert the array to a list and set it to `song_data`"
   ]
  },
  {
   "cell_type": "code",
   "execution_count": 9,
   "metadata": {
    "editable": true
   },
   "outputs": [
    {
     "data": {
      "text/plain": [
       "['SOMZWCG12A8C13C480', \"I Didn't Mean To\", 'ARD7TVE1187B99BFB1', 0, 218.93179]"
      ]
     },
     "execution_count": 9,
     "metadata": {},
     "output_type": "execute_result"
    }
   ],
   "source": [
    "song_data = df[['song_id', 'title', 'artist_id', 'year', 'duration']].values[0].tolist()\n",
    "song_data\n"
   ]
  },
  {
   "cell_type": "markdown",
   "metadata": {
    "editable": true
   },
   "source": [
    "#### Insert Record into Song Table\n",
    "Implement the `song_table_insert` query in `sql_queries.py` and run the cell below to insert a record for this song into the `songs` table. Remember to run `create_tables.py` before running the cell below to ensure you've created/resetted the `songs` table in the sparkify database."
   ]
  },
  {
   "cell_type": "code",
   "execution_count": 10,
   "metadata": {
    "editable": true
   },
   "outputs": [],
   "source": [
    "cur.execute(song_table_insert, song_data)\n",
    "conn.commit()"
   ]
  },
  {
   "cell_type": "markdown",
   "metadata": {
    "editable": true
   },
   "source": [
    "Run `test.ipynb` to see if you've successfully added a record to this table."
   ]
  },
  {
   "cell_type": "markdown",
   "metadata": {
    "editable": true
   },
   "source": [
    "## #2: `artists` Table\n",
    "#### Extract Data for Artists Table\n",
    "- Select columns for artist ID, name, location, latitude, and longitude\n",
    "- Use `df.values` to select just the values from the dataframe\n",
    "- Index to select the first (only) record in the dataframe\n",
    "- Convert the array to a list and set it to `artist_data`"
   ]
  },
  {
   "cell_type": "code",
   "execution_count": 11,
   "metadata": {
    "editable": true
   },
   "outputs": [
    {
     "data": {
      "text/plain": [
       "['ARD7TVE1187B99BFB1', 'Casual', 'California - LA', nan, nan]"
      ]
     },
     "execution_count": 11,
     "metadata": {},
     "output_type": "execute_result"
    }
   ],
   "source": [
    "artist_data = df[['artist_id', 'artist_name', 'artist_location', 'artist_latitude', 'artist_longitude']].values[0].tolist()\n",
    "artist_data"
   ]
  },
  {
   "cell_type": "markdown",
   "metadata": {
    "editable": true
   },
   "source": [
    "#### Insert Record into Artist Table\n",
    "Implement the `artist_table_insert` query in `sql_queries.py` and run the cell below to insert a record for this song's artist into the `artists` table. Remember to run `create_tables.py` before running the cell below to ensure you've created/resetted the `artists` table in the sparkify database."
   ]
  },
  {
   "cell_type": "code",
   "execution_count": 12,
   "metadata": {
    "editable": true
   },
   "outputs": [],
   "source": [
    "cur.execute(artist_table_insert, artist_data)\n",
    "conn.commit()"
   ]
  },
  {
   "cell_type": "markdown",
   "metadata": {
    "editable": true
   },
   "source": [
    "Run `test.ipynb` to see if you've successfully added a record to this table."
   ]
  },
  {
   "cell_type": "markdown",
   "metadata": {
    "editable": true
   },
   "source": [
    "# Process `log_data`\n",
    "In this part, you'll perform ETL on the second dataset, `log_data`, to create the `time` and `users` dimensional tables, as well as the `songplays` fact table.\n",
    "\n",
    "Let's perform ETL on a single log file and load a single record into each table.\n",
    "- Use the `get_files` function provided above to get a list of all log JSON files in `data/log_data`\n",
    "- Select the first log file in this list\n",
    "- Read the log file and view the data"
   ]
  },
  {
   "cell_type": "code",
   "execution_count": 13,
   "metadata": {
    "editable": true
   },
   "outputs": [],
   "source": [
    "log_files = get_files('./data/log_data')"
   ]
  },
  {
   "cell_type": "code",
   "execution_count": 14,
   "metadata": {
    "editable": true
   },
   "outputs": [],
   "source": [
    "filepath = log_files[0]"
   ]
  },
  {
   "cell_type": "code",
   "execution_count": 15,
   "metadata": {
    "editable": true
   },
   "outputs": [
    {
     "data": {
      "text/html": [
       "<div>\n",
       "<style scoped>\n",
       "    .dataframe tbody tr th:only-of-type {\n",
       "        vertical-align: middle;\n",
       "    }\n",
       "\n",
       "    .dataframe tbody tr th {\n",
       "        vertical-align: top;\n",
       "    }\n",
       "\n",
       "    .dataframe thead th {\n",
       "        text-align: right;\n",
       "    }\n",
       "</style>\n",
       "<table border=\"1\" class=\"dataframe\">\n",
       "  <thead>\n",
       "    <tr style=\"text-align: right;\">\n",
       "      <th></th>\n",
       "      <th>artist</th>\n",
       "      <th>auth</th>\n",
       "      <th>firstName</th>\n",
       "      <th>gender</th>\n",
       "      <th>itemInSession</th>\n",
       "      <th>lastName</th>\n",
       "      <th>length</th>\n",
       "      <th>level</th>\n",
       "      <th>location</th>\n",
       "      <th>method</th>\n",
       "      <th>page</th>\n",
       "      <th>registration</th>\n",
       "      <th>sessionId</th>\n",
       "      <th>song</th>\n",
       "      <th>status</th>\n",
       "      <th>ts</th>\n",
       "      <th>userAgent</th>\n",
       "      <th>userId</th>\n",
       "    </tr>\n",
       "  </thead>\n",
       "  <tbody>\n",
       "    <tr>\n",
       "      <th>0</th>\n",
       "      <td>Stephen Lynch</td>\n",
       "      <td>Logged In</td>\n",
       "      <td>Jayden</td>\n",
       "      <td>M</td>\n",
       "      <td>0</td>\n",
       "      <td>Bell</td>\n",
       "      <td>182.85669</td>\n",
       "      <td>free</td>\n",
       "      <td>Dallas-Fort Worth-Arlington, TX</td>\n",
       "      <td>PUT</td>\n",
       "      <td>NextSong</td>\n",
       "      <td>1.540992e+12</td>\n",
       "      <td>829</td>\n",
       "      <td>Jim Henson's Dead</td>\n",
       "      <td>200</td>\n",
       "      <td>1543537327796</td>\n",
       "      <td>Mozilla/5.0 (compatible; MSIE 10.0; Windows NT...</td>\n",
       "      <td>91</td>\n",
       "    </tr>\n",
       "    <tr>\n",
       "      <th>1</th>\n",
       "      <td>Manowar</td>\n",
       "      <td>Logged In</td>\n",
       "      <td>Jacob</td>\n",
       "      <td>M</td>\n",
       "      <td>0</td>\n",
       "      <td>Klein</td>\n",
       "      <td>247.56200</td>\n",
       "      <td>paid</td>\n",
       "      <td>Tampa-St. Petersburg-Clearwater, FL</td>\n",
       "      <td>PUT</td>\n",
       "      <td>NextSong</td>\n",
       "      <td>1.540558e+12</td>\n",
       "      <td>1049</td>\n",
       "      <td>Shell Shock</td>\n",
       "      <td>200</td>\n",
       "      <td>1543540121796</td>\n",
       "      <td>\"Mozilla/5.0 (Macintosh; Intel Mac OS X 10_9_4...</td>\n",
       "      <td>73</td>\n",
       "    </tr>\n",
       "    <tr>\n",
       "      <th>2</th>\n",
       "      <td>Morcheeba</td>\n",
       "      <td>Logged In</td>\n",
       "      <td>Jacob</td>\n",
       "      <td>M</td>\n",
       "      <td>1</td>\n",
       "      <td>Klein</td>\n",
       "      <td>257.41016</td>\n",
       "      <td>paid</td>\n",
       "      <td>Tampa-St. Petersburg-Clearwater, FL</td>\n",
       "      <td>PUT</td>\n",
       "      <td>NextSong</td>\n",
       "      <td>1.540558e+12</td>\n",
       "      <td>1049</td>\n",
       "      <td>Women Lose Weight (Feat: Slick Rick)</td>\n",
       "      <td>200</td>\n",
       "      <td>1543540368796</td>\n",
       "      <td>\"Mozilla/5.0 (Macintosh; Intel Mac OS X 10_9_4...</td>\n",
       "      <td>73</td>\n",
       "    </tr>\n",
       "    <tr>\n",
       "      <th>3</th>\n",
       "      <td>Maroon 5</td>\n",
       "      <td>Logged In</td>\n",
       "      <td>Jacob</td>\n",
       "      <td>M</td>\n",
       "      <td>2</td>\n",
       "      <td>Klein</td>\n",
       "      <td>231.23546</td>\n",
       "      <td>paid</td>\n",
       "      <td>Tampa-St. Petersburg-Clearwater, FL</td>\n",
       "      <td>PUT</td>\n",
       "      <td>NextSong</td>\n",
       "      <td>1.540558e+12</td>\n",
       "      <td>1049</td>\n",
       "      <td>Won't Go Home Without You</td>\n",
       "      <td>200</td>\n",
       "      <td>1543540625796</td>\n",
       "      <td>\"Mozilla/5.0 (Macintosh; Intel Mac OS X 10_9_4...</td>\n",
       "      <td>73</td>\n",
       "    </tr>\n",
       "    <tr>\n",
       "      <th>4</th>\n",
       "      <td>Train</td>\n",
       "      <td>Logged In</td>\n",
       "      <td>Jacob</td>\n",
       "      <td>M</td>\n",
       "      <td>3</td>\n",
       "      <td>Klein</td>\n",
       "      <td>216.76363</td>\n",
       "      <td>paid</td>\n",
       "      <td>Tampa-St. Petersburg-Clearwater, FL</td>\n",
       "      <td>PUT</td>\n",
       "      <td>NextSong</td>\n",
       "      <td>1.540558e+12</td>\n",
       "      <td>1049</td>\n",
       "      <td>Hey_ Soul Sister</td>\n",
       "      <td>200</td>\n",
       "      <td>1543540856796</td>\n",
       "      <td>\"Mozilla/5.0 (Macintosh; Intel Mac OS X 10_9_4...</td>\n",
       "      <td>73</td>\n",
       "    </tr>\n",
       "  </tbody>\n",
       "</table>\n",
       "</div>"
      ],
      "text/plain": [
       "          artist       auth firstName gender  itemInSession lastName  \\\n",
       "0  Stephen Lynch  Logged In    Jayden      M              0     Bell   \n",
       "1        Manowar  Logged In     Jacob      M              0    Klein   \n",
       "2      Morcheeba  Logged In     Jacob      M              1    Klein   \n",
       "3       Maroon 5  Logged In     Jacob      M              2    Klein   \n",
       "4          Train  Logged In     Jacob      M              3    Klein   \n",
       "\n",
       "      length level                             location method      page  \\\n",
       "0  182.85669  free      Dallas-Fort Worth-Arlington, TX    PUT  NextSong   \n",
       "1  247.56200  paid  Tampa-St. Petersburg-Clearwater, FL    PUT  NextSong   \n",
       "2  257.41016  paid  Tampa-St. Petersburg-Clearwater, FL    PUT  NextSong   \n",
       "3  231.23546  paid  Tampa-St. Petersburg-Clearwater, FL    PUT  NextSong   \n",
       "4  216.76363  paid  Tampa-St. Petersburg-Clearwater, FL    PUT  NextSong   \n",
       "\n",
       "   registration  sessionId                                  song  status  \\\n",
       "0  1.540992e+12        829                     Jim Henson's Dead     200   \n",
       "1  1.540558e+12       1049                           Shell Shock     200   \n",
       "2  1.540558e+12       1049  Women Lose Weight (Feat: Slick Rick)     200   \n",
       "3  1.540558e+12       1049             Won't Go Home Without You     200   \n",
       "4  1.540558e+12       1049                      Hey_ Soul Sister     200   \n",
       "\n",
       "              ts                                          userAgent userId  \n",
       "0  1543537327796  Mozilla/5.0 (compatible; MSIE 10.0; Windows NT...     91  \n",
       "1  1543540121796  \"Mozilla/5.0 (Macintosh; Intel Mac OS X 10_9_4...     73  \n",
       "2  1543540368796  \"Mozilla/5.0 (Macintosh; Intel Mac OS X 10_9_4...     73  \n",
       "3  1543540625796  \"Mozilla/5.0 (Macintosh; Intel Mac OS X 10_9_4...     73  \n",
       "4  1543540856796  \"Mozilla/5.0 (Macintosh; Intel Mac OS X 10_9_4...     73  "
      ]
     },
     "execution_count": 15,
     "metadata": {},
     "output_type": "execute_result"
    }
   ],
   "source": [
    "df = pd.read_json(filepath, lines=True)\n",
    "df.head()\n",
    "# df['ts']"
   ]
  },
  {
   "cell_type": "markdown",
   "metadata": {
    "editable": true
   },
   "source": [
    "## #3: `time` Table\n",
    "#### Extract Data for Time Table\n",
    "- Filter records by `NextSong` action\n",
    "- Convert the `ts` timestamp column to datetime\n",
    "  - Hint: the current timestamp is in milliseconds\n",
    "- Extract the timestamp, hour, day, week of year, month, year, and weekday from the `ts` column and set `time_data` to a list containing these values in order\n",
    "  - Hint: use pandas' [`dt` attribute](https://pandas.pydata.org/pandas-docs/stable/reference/api/pandas.Series.dt.html) to access easily datetimelike properties.\n",
    "- Specify labels for these columns and set to `column_labels`\n",
    "- Create a dataframe, `time_df,` containing the time data for this file by combining `column_labels` and `time_data` into a dictionary and converting this into a dataframe"
   ]
  },
  {
   "cell_type": "code",
   "execution_count": 16,
   "metadata": {
    "editable": true
   },
   "outputs": [
    {
     "data": {
      "text/html": [
       "<div>\n",
       "<style scoped>\n",
       "    .dataframe tbody tr th:only-of-type {\n",
       "        vertical-align: middle;\n",
       "    }\n",
       "\n",
       "    .dataframe tbody tr th {\n",
       "        vertical-align: top;\n",
       "    }\n",
       "\n",
       "    .dataframe thead th {\n",
       "        text-align: right;\n",
       "    }\n",
       "</style>\n",
       "<table border=\"1\" class=\"dataframe\">\n",
       "  <thead>\n",
       "    <tr style=\"text-align: right;\">\n",
       "      <th></th>\n",
       "      <th>artist</th>\n",
       "      <th>auth</th>\n",
       "      <th>firstName</th>\n",
       "      <th>gender</th>\n",
       "      <th>itemInSession</th>\n",
       "      <th>lastName</th>\n",
       "      <th>length</th>\n",
       "      <th>level</th>\n",
       "      <th>location</th>\n",
       "      <th>method</th>\n",
       "      <th>page</th>\n",
       "      <th>registration</th>\n",
       "      <th>sessionId</th>\n",
       "      <th>song</th>\n",
       "      <th>status</th>\n",
       "      <th>ts</th>\n",
       "      <th>userAgent</th>\n",
       "      <th>userId</th>\n",
       "    </tr>\n",
       "  </thead>\n",
       "  <tbody>\n",
       "    <tr>\n",
       "      <th>0</th>\n",
       "      <td>Stephen Lynch</td>\n",
       "      <td>Logged In</td>\n",
       "      <td>Jayden</td>\n",
       "      <td>M</td>\n",
       "      <td>0</td>\n",
       "      <td>Bell</td>\n",
       "      <td>182.85669</td>\n",
       "      <td>free</td>\n",
       "      <td>Dallas-Fort Worth-Arlington, TX</td>\n",
       "      <td>PUT</td>\n",
       "      <td>NextSong</td>\n",
       "      <td>1.540992e+12</td>\n",
       "      <td>829</td>\n",
       "      <td>Jim Henson's Dead</td>\n",
       "      <td>200</td>\n",
       "      <td>1543537327796</td>\n",
       "      <td>Mozilla/5.0 (compatible; MSIE 10.0; Windows NT...</td>\n",
       "      <td>91</td>\n",
       "    </tr>\n",
       "    <tr>\n",
       "      <th>1</th>\n",
       "      <td>Manowar</td>\n",
       "      <td>Logged In</td>\n",
       "      <td>Jacob</td>\n",
       "      <td>M</td>\n",
       "      <td>0</td>\n",
       "      <td>Klein</td>\n",
       "      <td>247.56200</td>\n",
       "      <td>paid</td>\n",
       "      <td>Tampa-St. Petersburg-Clearwater, FL</td>\n",
       "      <td>PUT</td>\n",
       "      <td>NextSong</td>\n",
       "      <td>1.540558e+12</td>\n",
       "      <td>1049</td>\n",
       "      <td>Shell Shock</td>\n",
       "      <td>200</td>\n",
       "      <td>1543540121796</td>\n",
       "      <td>\"Mozilla/5.0 (Macintosh; Intel Mac OS X 10_9_4...</td>\n",
       "      <td>73</td>\n",
       "    </tr>\n",
       "    <tr>\n",
       "      <th>2</th>\n",
       "      <td>Morcheeba</td>\n",
       "      <td>Logged In</td>\n",
       "      <td>Jacob</td>\n",
       "      <td>M</td>\n",
       "      <td>1</td>\n",
       "      <td>Klein</td>\n",
       "      <td>257.41016</td>\n",
       "      <td>paid</td>\n",
       "      <td>Tampa-St. Petersburg-Clearwater, FL</td>\n",
       "      <td>PUT</td>\n",
       "      <td>NextSong</td>\n",
       "      <td>1.540558e+12</td>\n",
       "      <td>1049</td>\n",
       "      <td>Women Lose Weight (Feat: Slick Rick)</td>\n",
       "      <td>200</td>\n",
       "      <td>1543540368796</td>\n",
       "      <td>\"Mozilla/5.0 (Macintosh; Intel Mac OS X 10_9_4...</td>\n",
       "      <td>73</td>\n",
       "    </tr>\n",
       "    <tr>\n",
       "      <th>3</th>\n",
       "      <td>Maroon 5</td>\n",
       "      <td>Logged In</td>\n",
       "      <td>Jacob</td>\n",
       "      <td>M</td>\n",
       "      <td>2</td>\n",
       "      <td>Klein</td>\n",
       "      <td>231.23546</td>\n",
       "      <td>paid</td>\n",
       "      <td>Tampa-St. Petersburg-Clearwater, FL</td>\n",
       "      <td>PUT</td>\n",
       "      <td>NextSong</td>\n",
       "      <td>1.540558e+12</td>\n",
       "      <td>1049</td>\n",
       "      <td>Won't Go Home Without You</td>\n",
       "      <td>200</td>\n",
       "      <td>1543540625796</td>\n",
       "      <td>\"Mozilla/5.0 (Macintosh; Intel Mac OS X 10_9_4...</td>\n",
       "      <td>73</td>\n",
       "    </tr>\n",
       "    <tr>\n",
       "      <th>4</th>\n",
       "      <td>Train</td>\n",
       "      <td>Logged In</td>\n",
       "      <td>Jacob</td>\n",
       "      <td>M</td>\n",
       "      <td>3</td>\n",
       "      <td>Klein</td>\n",
       "      <td>216.76363</td>\n",
       "      <td>paid</td>\n",
       "      <td>Tampa-St. Petersburg-Clearwater, FL</td>\n",
       "      <td>PUT</td>\n",
       "      <td>NextSong</td>\n",
       "      <td>1.540558e+12</td>\n",
       "      <td>1049</td>\n",
       "      <td>Hey_ Soul Sister</td>\n",
       "      <td>200</td>\n",
       "      <td>1543540856796</td>\n",
       "      <td>\"Mozilla/5.0 (Macintosh; Intel Mac OS X 10_9_4...</td>\n",
       "      <td>73</td>\n",
       "    </tr>\n",
       "  </tbody>\n",
       "</table>\n",
       "</div>"
      ],
      "text/plain": [
       "          artist       auth firstName gender  itemInSession lastName  \\\n",
       "0  Stephen Lynch  Logged In    Jayden      M              0     Bell   \n",
       "1        Manowar  Logged In     Jacob      M              0    Klein   \n",
       "2      Morcheeba  Logged In     Jacob      M              1    Klein   \n",
       "3       Maroon 5  Logged In     Jacob      M              2    Klein   \n",
       "4          Train  Logged In     Jacob      M              3    Klein   \n",
       "\n",
       "      length level                             location method      page  \\\n",
       "0  182.85669  free      Dallas-Fort Worth-Arlington, TX    PUT  NextSong   \n",
       "1  247.56200  paid  Tampa-St. Petersburg-Clearwater, FL    PUT  NextSong   \n",
       "2  257.41016  paid  Tampa-St. Petersburg-Clearwater, FL    PUT  NextSong   \n",
       "3  231.23546  paid  Tampa-St. Petersburg-Clearwater, FL    PUT  NextSong   \n",
       "4  216.76363  paid  Tampa-St. Petersburg-Clearwater, FL    PUT  NextSong   \n",
       "\n",
       "   registration  sessionId                                  song  status  \\\n",
       "0  1.540992e+12        829                     Jim Henson's Dead     200   \n",
       "1  1.540558e+12       1049                           Shell Shock     200   \n",
       "2  1.540558e+12       1049  Women Lose Weight (Feat: Slick Rick)     200   \n",
       "3  1.540558e+12       1049             Won't Go Home Without You     200   \n",
       "4  1.540558e+12       1049                      Hey_ Soul Sister     200   \n",
       "\n",
       "              ts                                          userAgent userId  \n",
       "0  1543537327796  Mozilla/5.0 (compatible; MSIE 10.0; Windows NT...     91  \n",
       "1  1543540121796  \"Mozilla/5.0 (Macintosh; Intel Mac OS X 10_9_4...     73  \n",
       "2  1543540368796  \"Mozilla/5.0 (Macintosh; Intel Mac OS X 10_9_4...     73  \n",
       "3  1543540625796  \"Mozilla/5.0 (Macintosh; Intel Mac OS X 10_9_4...     73  \n",
       "4  1543540856796  \"Mozilla/5.0 (Macintosh; Intel Mac OS X 10_9_4...     73  "
      ]
     },
     "execution_count": 16,
     "metadata": {},
     "output_type": "execute_result"
    }
   ],
   "source": [
    "df =  df[df['page'] == 'NextSong']\n",
    "df.head()"
   ]
  },
  {
   "cell_type": "code",
   "execution_count": 17,
   "metadata": {
    "editable": true
   },
   "outputs": [],
   "source": [
    "df['ts'] = pd.to_datetime(df['ts'], unit='ms')"
   ]
  },
  {
   "cell_type": "code",
   "execution_count": 18,
   "metadata": {
    "editable": true
   },
   "outputs": [
    {
     "data": {
      "text/plain": [
       "0   2018-11-30 00:22:07.796\n",
       "1   2018-11-30 01:08:41.796\n",
       "2   2018-11-30 01:12:48.796\n",
       "3   2018-11-30 01:17:05.796\n",
       "4   2018-11-30 01:20:56.796\n",
       "Name: ts, dtype: datetime64[ns]"
      ]
     },
     "execution_count": 18,
     "metadata": {},
     "output_type": "execute_result"
    }
   ],
   "source": [
    "t = df['ts']\n",
    "t.head()\n"
   ]
  },
  {
   "cell_type": "code",
   "execution_count": 19,
   "metadata": {
    "editable": true
   },
   "outputs": [
    {
     "data": {
      "text/plain": [
       "[('2018-11-30 00:22:07.796000', 0, 30, 48, 11, 2018, 4),\n",
       " ('2018-11-30 01:08:41.796000', 1, 30, 48, 11, 2018, 4),\n",
       " ('2018-11-30 01:12:48.796000', 1, 30, 48, 11, 2018, 4),\n",
       " ('2018-11-30 01:17:05.796000', 1, 30, 48, 11, 2018, 4),\n",
       " ('2018-11-30 01:20:56.796000', 1, 30, 48, 11, 2018, 4),\n",
       " ('2018-11-30 01:24:32.796000', 1, 30, 48, 11, 2018, 4),\n",
       " ('2018-11-30 01:28:19.796000', 1, 30, 48, 11, 2018, 4),\n",
       " ('2018-11-30 01:32:00.796000', 1, 30, 48, 11, 2018, 4),\n",
       " ('2018-11-30 01:38:17.796000', 1, 30, 48, 11, 2018, 4),\n",
       " ('2018-11-30 01:39:53.796000', 1, 30, 48, 11, 2018, 4),\n",
       " ('2018-11-30 01:44:10.796000', 1, 30, 48, 11, 2018, 4),\n",
       " ('2018-11-30 01:48:36.796000', 1, 30, 48, 11, 2018, 4),\n",
       " ('2018-11-30 01:50:28.796000', 1, 30, 48, 11, 2018, 4),\n",
       " ('2018-11-30 01:55:35.796000', 1, 30, 48, 11, 2018, 4),\n",
       " ('2018-11-30 02:01:08.796000', 2, 30, 48, 11, 2018, 4),\n",
       " ('2018-11-30 02:05:24.796000', 2, 30, 48, 11, 2018, 4),\n",
       " ('2018-11-30 02:10:21.796000', 2, 30, 48, 11, 2018, 4),\n",
       " ('2018-11-30 02:15:54.796000', 2, 30, 48, 11, 2018, 4),\n",
       " ('2018-11-30 02:19:19.796000', 2, 30, 48, 11, 2018, 4),\n",
       " ('2018-11-30 03:06:30.796000', 3, 30, 48, 11, 2018, 4),\n",
       " ('2018-11-30 03:10:30.796000', 3, 30, 48, 11, 2018, 4),\n",
       " ('2018-11-30 03:13:03.796000', 3, 30, 48, 11, 2018, 4),\n",
       " ('2018-11-30 03:15:41.796000', 3, 30, 48, 11, 2018, 4),\n",
       " ('2018-11-30 03:21:09.796000', 3, 30, 48, 11, 2018, 4),\n",
       " ('2018-11-30 03:29:23.796000', 3, 30, 48, 11, 2018, 4),\n",
       " ('2018-11-30 03:32:46.796000', 3, 30, 48, 11, 2018, 4),\n",
       " ('2018-11-30 03:37:24.796000', 3, 30, 48, 11, 2018, 4),\n",
       " ('2018-11-30 03:39:31.796000', 3, 30, 48, 11, 2018, 4),\n",
       " ('2018-11-30 03:44:28.796000', 3, 30, 48, 11, 2018, 4),\n",
       " ('2018-11-30 03:49:50.796000', 3, 30, 48, 11, 2018, 4),\n",
       " ('2018-11-30 03:55:42.796000', 3, 30, 48, 11, 2018, 4),\n",
       " ('2018-11-30 03:58:21.796000', 3, 30, 48, 11, 2018, 4),\n",
       " ('2018-11-30 04:00:57.796000', 4, 30, 48, 11, 2018, 4),\n",
       " ('2018-11-30 04:04:13.796000', 4, 30, 48, 11, 2018, 4),\n",
       " ('2018-11-30 04:06:01.796000', 4, 30, 48, 11, 2018, 4),\n",
       " ('2018-11-30 04:09:20.796000', 4, 30, 48, 11, 2018, 4),\n",
       " ('2018-11-30 04:12:58.796000', 4, 30, 48, 11, 2018, 4),\n",
       " ('2018-11-30 04:13:07.796000', 4, 30, 48, 11, 2018, 4),\n",
       " ('2018-11-30 04:17:10.796000', 4, 30, 48, 11, 2018, 4),\n",
       " ('2018-11-30 04:20:32.796000', 4, 30, 48, 11, 2018, 4),\n",
       " ('2018-11-30 04:21:20.796000', 4, 30, 48, 11, 2018, 4),\n",
       " ('2018-11-30 04:23:31.796000', 4, 30, 48, 11, 2018, 4),\n",
       " ('2018-11-30 04:24:50.796000', 4, 30, 48, 11, 2018, 4),\n",
       " ('2018-11-30 04:26:49.796000', 4, 30, 48, 11, 2018, 4),\n",
       " ('2018-11-30 04:27:14.796000', 4, 30, 48, 11, 2018, 4),\n",
       " ('2018-11-30 04:31:08.796000', 4, 30, 48, 11, 2018, 4),\n",
       " ('2018-11-30 04:32:02.796000', 4, 30, 48, 11, 2018, 4),\n",
       " ('2018-11-30 04:36:30.796000', 4, 30, 48, 11, 2018, 4),\n",
       " ('2018-11-30 04:42:05.796000', 4, 30, 48, 11, 2018, 4),\n",
       " ('2018-11-30 04:46:03.796000', 4, 30, 48, 11, 2018, 4),\n",
       " ('2018-11-30 04:51:49.796000', 4, 30, 48, 11, 2018, 4),\n",
       " ('2018-11-30 04:56:11.796000', 4, 30, 48, 11, 2018, 4),\n",
       " ('2018-11-30 04:57:03.796000', 4, 30, 48, 11, 2018, 4),\n",
       " ('2018-11-30 05:03:06.796000', 5, 30, 48, 11, 2018, 4),\n",
       " ('2018-11-30 05:06:32.796000', 5, 30, 48, 11, 2018, 4),\n",
       " ('2018-11-30 05:11:09.796000', 5, 30, 48, 11, 2018, 4),\n",
       " ('2018-11-30 05:12:20.796000', 5, 30, 48, 11, 2018, 4),\n",
       " ('2018-11-30 05:15:12.796000', 5, 30, 48, 11, 2018, 4),\n",
       " ('2018-11-30 05:16:54.796000', 5, 30, 48, 11, 2018, 4),\n",
       " ('2018-11-30 05:19:35.796000', 5, 30, 48, 11, 2018, 4),\n",
       " ('2018-11-30 05:20:54.796000', 5, 30, 48, 11, 2018, 4),\n",
       " ('2018-11-30 05:23:34.796000', 5, 30, 48, 11, 2018, 4),\n",
       " ('2018-11-30 05:24:45.796000', 5, 30, 48, 11, 2018, 4),\n",
       " ('2018-11-30 05:28:28.796000', 5, 30, 48, 11, 2018, 4),\n",
       " ('2018-11-30 05:29:04.796000', 5, 30, 48, 11, 2018, 4),\n",
       " ('2018-11-30 05:31:25.796000', 5, 30, 48, 11, 2018, 4),\n",
       " ('2018-11-30 05:31:44.796000', 5, 30, 48, 11, 2018, 4),\n",
       " ('2018-11-30 05:32:47.796000', 5, 30, 48, 11, 2018, 4),\n",
       " ('2018-11-30 05:36:03.796000', 5, 30, 48, 11, 2018, 4),\n",
       " ('2018-11-30 05:36:45.796000', 5, 30, 48, 11, 2018, 4),\n",
       " ('2018-11-30 05:39:39.796000', 5, 30, 48, 11, 2018, 4),\n",
       " ('2018-11-30 05:40:31.796000', 5, 30, 48, 11, 2018, 4),\n",
       " ('2018-11-30 05:43:04.796000', 5, 30, 48, 11, 2018, 4),\n",
       " ('2018-11-30 05:43:56.796000', 5, 30, 48, 11, 2018, 4),\n",
       " ('2018-11-30 05:46:01.796000', 5, 30, 48, 11, 2018, 4),\n",
       " ('2018-11-30 05:48:56.796000', 5, 30, 48, 11, 2018, 4),\n",
       " ('2018-11-30 05:50:07.796000', 5, 30, 48, 11, 2018, 4),\n",
       " ('2018-11-30 05:54:19.796000', 5, 30, 48, 11, 2018, 4),\n",
       " ('2018-11-30 05:57:11.796000', 5, 30, 48, 11, 2018, 4),\n",
       " ('2018-11-30 05:58:01.796000', 5, 30, 48, 11, 2018, 4),\n",
       " ('2018-11-30 06:01:40.796000', 6, 30, 48, 11, 2018, 4),\n",
       " ('2018-11-30 06:04:50.796000', 6, 30, 48, 11, 2018, 4),\n",
       " ('2018-11-30 06:04:55.796000', 6, 30, 48, 11, 2018, 4),\n",
       " ('2018-11-30 06:07:57.796000', 6, 30, 48, 11, 2018, 4),\n",
       " ('2018-11-30 06:10:18.796000', 6, 30, 48, 11, 2018, 4),\n",
       " ('2018-11-30 06:12:54.796000', 6, 30, 48, 11, 2018, 4),\n",
       " ('2018-11-30 06:13:23.796000', 6, 30, 48, 11, 2018, 4),\n",
       " ('2018-11-30 06:14:02.796000', 6, 30, 48, 11, 2018, 4),\n",
       " ('2018-11-30 06:16:35.796000', 6, 30, 48, 11, 2018, 4),\n",
       " ('2018-11-30 06:18:28.796000', 6, 30, 48, 11, 2018, 4),\n",
       " ('2018-11-30 06:21:31.796000', 6, 30, 48, 11, 2018, 4),\n",
       " ('2018-11-30 06:26:25.796000', 6, 30, 48, 11, 2018, 4),\n",
       " ('2018-11-30 06:30:35.796000', 6, 30, 48, 11, 2018, 4),\n",
       " ('2018-11-30 06:33:56.796000', 6, 30, 48, 11, 2018, 4),\n",
       " ('2018-11-30 06:37:14.796000', 6, 30, 48, 11, 2018, 4),\n",
       " ('2018-11-30 06:40:47.796000', 6, 30, 48, 11, 2018, 4),\n",
       " ('2018-11-30 06:44:27.796000', 6, 30, 48, 11, 2018, 4),\n",
       " ('2018-11-30 06:48:28.796000', 6, 30, 48, 11, 2018, 4),\n",
       " ('2018-11-30 06:52:31.796000', 6, 30, 48, 11, 2018, 4),\n",
       " ('2018-11-30 06:54:42.796000', 6, 30, 48, 11, 2018, 4),\n",
       " ('2018-11-30 06:58:38.796000', 6, 30, 48, 11, 2018, 4),\n",
       " ('2018-11-30 07:02:23.796000', 7, 30, 48, 11, 2018, 4),\n",
       " ('2018-11-30 07:08:35.796000', 7, 30, 48, 11, 2018, 4),\n",
       " ('2018-11-30 07:15:24.796000', 7, 30, 48, 11, 2018, 4),\n",
       " ('2018-11-30 07:18:31.796000', 7, 30, 48, 11, 2018, 4),\n",
       " ('2018-11-30 07:22:12.796000', 7, 30, 48, 11, 2018, 4),\n",
       " ('2018-11-30 07:24:45.796000', 7, 30, 48, 11, 2018, 4),\n",
       " ('2018-11-30 07:28:29.796000', 7, 30, 48, 11, 2018, 4),\n",
       " ('2018-11-30 07:29:09.796000', 7, 30, 48, 11, 2018, 4),\n",
       " ('2018-11-30 07:31:39.796000', 7, 30, 48, 11, 2018, 4),\n",
       " ('2018-11-30 07:36:23.796000', 7, 30, 48, 11, 2018, 4),\n",
       " ('2018-11-30 07:38:51.796000', 7, 30, 48, 11, 2018, 4),\n",
       " ('2018-11-30 07:42:37.796000', 7, 30, 48, 11, 2018, 4),\n",
       " ('2018-11-30 07:47:05.796000', 7, 30, 48, 11, 2018, 4),\n",
       " ('2018-11-30 07:49:54.796000', 7, 30, 48, 11, 2018, 4),\n",
       " ('2018-11-30 08:16:11.796000', 8, 30, 48, 11, 2018, 4),\n",
       " ('2018-11-30 08:20:12.796000', 8, 30, 48, 11, 2018, 4),\n",
       " ('2018-11-30 08:21:57.796000', 8, 30, 48, 11, 2018, 4),\n",
       " ('2018-11-30 08:26:07.796000', 8, 30, 48, 11, 2018, 4),\n",
       " ('2018-11-30 08:29:58.796000', 8, 30, 48, 11, 2018, 4),\n",
       " ('2018-11-30 08:32:43.796000', 8, 30, 48, 11, 2018, 4),\n",
       " ('2018-11-30 08:38:38.796000', 8, 30, 48, 11, 2018, 4),\n",
       " ('2018-11-30 08:46:21.796000', 8, 30, 48, 11, 2018, 4),\n",
       " ('2018-11-30 10:12:54.796000', 10, 30, 48, 11, 2018, 4),\n",
       " ('2018-11-30 10:18:07.796000', 10, 30, 48, 11, 2018, 4),\n",
       " ('2018-11-30 10:22:53.796000', 10, 30, 48, 11, 2018, 4),\n",
       " ('2018-11-30 10:27:08.796000', 10, 30, 48, 11, 2018, 4),\n",
       " ('2018-11-30 10:30:53.796000', 10, 30, 48, 11, 2018, 4),\n",
       " ('2018-11-30 10:35:18.796000', 10, 30, 48, 11, 2018, 4),\n",
       " ('2018-11-30 10:38:54.796000', 10, 30, 48, 11, 2018, 4),\n",
       " ('2018-11-30 10:42:09.796000', 10, 30, 48, 11, 2018, 4),\n",
       " ('2018-11-30 10:46:06.796000', 10, 30, 48, 11, 2018, 4),\n",
       " ('2018-11-30 10:49:40.796000', 10, 30, 48, 11, 2018, 4),\n",
       " ('2018-11-30 10:54:05.796000', 10, 30, 48, 11, 2018, 4),\n",
       " ('2018-11-30 10:56:25.796000', 10, 30, 48, 11, 2018, 4),\n",
       " ('2018-11-30 10:59:23.796000', 10, 30, 48, 11, 2018, 4),\n",
       " ('2018-11-30 11:00:01.796000', 11, 30, 48, 11, 2018, 4),\n",
       " ('2018-11-30 11:06:18.796000', 11, 30, 48, 11, 2018, 4),\n",
       " ('2018-11-30 11:09:49.796000', 11, 30, 48, 11, 2018, 4),\n",
       " ('2018-11-30 11:10:18.796000', 11, 30, 48, 11, 2018, 4),\n",
       " ('2018-11-30 11:13:07.796000', 11, 30, 48, 11, 2018, 4),\n",
       " ('2018-11-30 11:16:10.796000', 11, 30, 48, 11, 2018, 4),\n",
       " ('2018-11-30 11:20:03.796000', 11, 30, 48, 11, 2018, 4),\n",
       " ('2018-11-30 11:23:44.796000', 11, 30, 48, 11, 2018, 4),\n",
       " ('2018-11-30 11:28:16.796000', 11, 30, 48, 11, 2018, 4),\n",
       " ('2018-11-30 11:32:04.796000', 11, 30, 48, 11, 2018, 4),\n",
       " ('2018-11-30 11:37:23.796000', 11, 30, 48, 11, 2018, 4),\n",
       " ('2018-11-30 11:41:03.796000', 11, 30, 48, 11, 2018, 4),\n",
       " ('2018-11-30 11:46:23.796000', 11, 30, 48, 11, 2018, 4),\n",
       " ('2018-11-30 11:49:42.796000', 11, 30, 48, 11, 2018, 4),\n",
       " ('2018-11-30 12:10:57.796000', 12, 30, 48, 11, 2018, 4),\n",
       " ('2018-11-30 12:31:18.796000', 12, 30, 48, 11, 2018, 4),\n",
       " ('2018-11-30 12:34:47.796000', 12, 30, 48, 11, 2018, 4),\n",
       " ('2018-11-30 12:39:36.796000', 12, 30, 48, 11, 2018, 4),\n",
       " ('2018-11-30 12:47:53.796000', 12, 30, 48, 11, 2018, 4),\n",
       " ('2018-11-30 12:52:50.796000', 12, 30, 48, 11, 2018, 4),\n",
       " ('2018-11-30 12:57:05.796000', 12, 30, 48, 11, 2018, 4),\n",
       " ('2018-11-30 12:57:53.796000', 12, 30, 48, 11, 2018, 4),\n",
       " ('2018-11-30 13:01:42.796000', 13, 30, 48, 11, 2018, 4),\n",
       " ('2018-11-30 13:05:54.796000', 13, 30, 48, 11, 2018, 4),\n",
       " ('2018-11-30 13:10:16.796000', 13, 30, 48, 11, 2018, 4),\n",
       " ('2018-11-30 13:13:45.796000', 13, 30, 48, 11, 2018, 4),\n",
       " ('2018-11-30 13:17:25.796000', 13, 30, 48, 11, 2018, 4),\n",
       " ('2018-11-30 13:20:30.796000', 13, 30, 48, 11, 2018, 4),\n",
       " ('2018-11-30 13:20:44.796000', 13, 30, 48, 11, 2018, 4),\n",
       " ('2018-11-30 13:27:49.796000', 13, 30, 48, 11, 2018, 4),\n",
       " ('2018-11-30 13:31:28.796000', 13, 30, 48, 11, 2018, 4),\n",
       " ('2018-11-30 13:34:49.796000', 13, 30, 48, 11, 2018, 4),\n",
       " ('2018-11-30 13:38:42.796000', 13, 30, 48, 11, 2018, 4),\n",
       " ('2018-11-30 13:41:51.796000', 13, 30, 48, 11, 2018, 4),\n",
       " ('2018-11-30 13:43:40.796000', 13, 30, 48, 11, 2018, 4),\n",
       " ('2018-11-30 13:45:20.796000', 13, 30, 48, 11, 2018, 4),\n",
       " ('2018-11-30 13:48:07.796000', 13, 30, 48, 11, 2018, 4),\n",
       " ('2018-11-30 13:48:55.796000', 13, 30, 48, 11, 2018, 4),\n",
       " ('2018-11-30 13:52:37.796000', 13, 30, 48, 11, 2018, 4),\n",
       " ('2018-11-30 13:52:55.796000', 13, 30, 48, 11, 2018, 4),\n",
       " ('2018-11-30 13:56:36.796000', 13, 30, 48, 11, 2018, 4),\n",
       " ('2018-11-30 13:57:21.796000', 13, 30, 48, 11, 2018, 4),\n",
       " ('2018-11-30 13:57:24.796000', 13, 30, 48, 11, 2018, 4),\n",
       " ('2018-11-30 13:59:31.796000', 13, 30, 48, 11, 2018, 4),\n",
       " ('2018-11-30 14:00:38.796000', 14, 30, 48, 11, 2018, 4),\n",
       " ('2018-11-30 14:01:42.796000', 14, 30, 48, 11, 2018, 4),\n",
       " ('2018-11-30 14:01:43.796000', 14, 30, 48, 11, 2018, 4),\n",
       " ('2018-11-30 14:03:21.796000', 14, 30, 48, 11, 2018, 4),\n",
       " ('2018-11-30 14:04:47.796000', 14, 30, 48, 11, 2018, 4),\n",
       " ('2018-11-30 14:06:43.796000', 14, 30, 48, 11, 2018, 4),\n",
       " ('2018-11-30 14:07:56.796000', 14, 30, 48, 11, 2018, 4),\n",
       " ('2018-11-30 14:10:01.796000', 14, 30, 48, 11, 2018, 4),\n",
       " ('2018-11-30 14:11:25.796000', 14, 30, 48, 11, 2018, 4),\n",
       " ('2018-11-30 14:12:16.796000', 14, 30, 48, 11, 2018, 4),\n",
       " ('2018-11-30 14:15:25.796000', 14, 30, 48, 11, 2018, 4),\n",
       " ('2018-11-30 14:16:36.796000', 14, 30, 48, 11, 2018, 4),\n",
       " ('2018-11-30 14:19:48.796000', 14, 30, 48, 11, 2018, 4),\n",
       " ('2018-11-30 14:21:45.796000', 14, 30, 48, 11, 2018, 4),\n",
       " ('2018-11-30 14:24:02.796000', 14, 30, 48, 11, 2018, 4),\n",
       " ('2018-11-30 14:27:42.796000', 14, 30, 48, 11, 2018, 4),\n",
       " ('2018-11-30 14:28:26.796000', 14, 30, 48, 11, 2018, 4),\n",
       " ('2018-11-30 14:31:15.796000', 14, 30, 48, 11, 2018, 4),\n",
       " ('2018-11-30 14:33:39.796000', 14, 30, 48, 11, 2018, 4),\n",
       " ('2018-11-30 14:33:53.796000', 14, 30, 48, 11, 2018, 4),\n",
       " ('2018-11-30 14:36:07.796000', 14, 30, 48, 11, 2018, 4),\n",
       " ('2018-11-30 14:37:56.796000', 14, 30, 48, 11, 2018, 4),\n",
       " ('2018-11-30 14:38:37.796000', 14, 30, 48, 11, 2018, 4),\n",
       " ('2018-11-30 14:41:06.796000', 14, 30, 48, 11, 2018, 4),\n",
       " ('2018-11-30 14:42:01.796000', 14, 30, 48, 11, 2018, 4),\n",
       " ('2018-11-30 14:42:38.796000', 14, 30, 48, 11, 2018, 4),\n",
       " ('2018-11-30 14:42:45.796000', 14, 30, 48, 11, 2018, 4),\n",
       " ('2018-11-30 14:43:50.796000', 14, 30, 48, 11, 2018, 4),\n",
       " ('2018-11-30 14:45:13.796000', 14, 30, 48, 11, 2018, 4),\n",
       " ('2018-11-30 14:46:43.796000', 14, 30, 48, 11, 2018, 4),\n",
       " ('2018-11-30 14:47:35.796000', 14, 30, 48, 11, 2018, 4),\n",
       " ('2018-11-30 14:49:37.796000', 14, 30, 48, 11, 2018, 4),\n",
       " ('2018-11-30 14:51:37.796000', 14, 30, 48, 11, 2018, 4),\n",
       " ('2018-11-30 14:52:04.796000', 14, 30, 48, 11, 2018, 4),\n",
       " ('2018-11-30 14:53:33.796000', 14, 30, 48, 11, 2018, 4),\n",
       " ('2018-11-30 14:55:25.796000', 14, 30, 48, 11, 2018, 4),\n",
       " ('2018-11-30 14:57:52.796000', 14, 30, 48, 11, 2018, 4),\n",
       " ('2018-11-30 14:59:31.796000', 14, 30, 48, 11, 2018, 4),\n",
       " ('2018-11-30 14:59:32.796000', 14, 30, 48, 11, 2018, 4),\n",
       " ('2018-11-30 15:01:06.796000', 15, 30, 48, 11, 2018, 4),\n",
       " ('2018-11-30 15:02:42.796000', 15, 30, 48, 11, 2018, 4),\n",
       " ('2018-11-30 15:05:47.796000', 15, 30, 48, 11, 2018, 4),\n",
       " ('2018-11-30 15:05:56.796000', 15, 30, 48, 11, 2018, 4),\n",
       " ('2018-11-30 15:06:38.796000', 15, 30, 48, 11, 2018, 4),\n",
       " ('2018-11-30 15:09:01.796000', 15, 30, 48, 11, 2018, 4),\n",
       " ('2018-11-30 15:10:07.796000', 15, 30, 48, 11, 2018, 4),\n",
       " ('2018-11-30 15:11:47.796000', 15, 30, 48, 11, 2018, 4),\n",
       " ('2018-11-30 15:12:54.796000', 15, 30, 48, 11, 2018, 4),\n",
       " ('2018-11-30 15:13:03.796000', 15, 30, 48, 11, 2018, 4),\n",
       " ('2018-11-30 15:14:35.796000', 15, 30, 48, 11, 2018, 4),\n",
       " ('2018-11-30 15:15:05.796000', 15, 30, 48, 11, 2018, 4),\n",
       " ('2018-11-30 15:16:02.796000', 15, 30, 48, 11, 2018, 4),\n",
       " ('2018-11-30 15:17:07.796000', 15, 30, 48, 11, 2018, 4),\n",
       " ('2018-11-30 15:18:58.796000', 15, 30, 48, 11, 2018, 4),\n",
       " ('2018-11-30 15:21:29.796000', 15, 30, 48, 11, 2018, 4),\n",
       " ('2018-11-30 15:22:09.796000', 15, 30, 48, 11, 2018, 4),\n",
       " ('2018-11-30 15:22:54.796000', 15, 30, 48, 11, 2018, 4),\n",
       " ('2018-11-30 15:24:45.796000', 15, 30, 48, 11, 2018, 4),\n",
       " ('2018-11-30 15:25:59.796000', 15, 30, 48, 11, 2018, 4),\n",
       " ('2018-11-30 15:27:25.796000', 15, 30, 48, 11, 2018, 4),\n",
       " ('2018-11-30 15:28:30.796000', 15, 30, 48, 11, 2018, 4),\n",
       " ('2018-11-30 15:32:00.796000', 15, 30, 48, 11, 2018, 4),\n",
       " ('2018-11-30 15:33:06.796000', 15, 30, 48, 11, 2018, 4),\n",
       " ('2018-11-30 15:37:07.796000', 15, 30, 48, 11, 2018, 4),\n",
       " ('2018-11-30 15:42:22.796000', 15, 30, 48, 11, 2018, 4),\n",
       " ('2018-11-30 15:46:15.796000', 15, 30, 48, 11, 2018, 4),\n",
       " ('2018-11-30 15:50:08.796000', 15, 30, 48, 11, 2018, 4),\n",
       " ('2018-11-30 15:51:02.796000', 15, 30, 48, 11, 2018, 4),\n",
       " ('2018-11-30 15:53:37.796000', 15, 30, 48, 11, 2018, 4),\n",
       " ('2018-11-30 15:54:23.796000', 15, 30, 48, 11, 2018, 4),\n",
       " ('2018-11-30 15:57:42.796000', 15, 30, 48, 11, 2018, 4),\n",
       " ('2018-11-30 15:58:51.796000', 15, 30, 48, 11, 2018, 4),\n",
       " ('2018-11-30 16:00:31.796000', 16, 30, 48, 11, 2018, 4),\n",
       " ('2018-11-30 16:03:06.796000', 16, 30, 48, 11, 2018, 4),\n",
       " ('2018-11-30 16:06:15.796000', 16, 30, 48, 11, 2018, 4),\n",
       " ('2018-11-30 16:07:52.796000', 16, 30, 48, 11, 2018, 4),\n",
       " ('2018-11-30 16:09:16.796000', 16, 30, 48, 11, 2018, 4),\n",
       " ('2018-11-30 16:12:03.796000', 16, 30, 48, 11, 2018, 4),\n",
       " ('2018-11-30 16:13:08.796000', 16, 30, 48, 11, 2018, 4),\n",
       " ('2018-11-30 16:15:19.796000', 16, 30, 48, 11, 2018, 4),\n",
       " ('2018-11-30 16:17:45.796000', 16, 30, 48, 11, 2018, 4),\n",
       " ('2018-11-30 16:18:18.796000', 16, 30, 48, 11, 2018, 4),\n",
       " ('2018-11-30 16:20:04.796000', 16, 30, 48, 11, 2018, 4),\n",
       " ('2018-11-30 16:21:23.796000', 16, 30, 48, 11, 2018, 4),\n",
       " ('2018-11-30 16:21:33.796000', 16, 30, 48, 11, 2018, 4),\n",
       " ('2018-11-30 16:25:17.796000', 16, 30, 48, 11, 2018, 4),\n",
       " ('2018-11-30 16:27:09.796000', 16, 30, 48, 11, 2018, 4),\n",
       " ('2018-11-30 16:31:25.796000', 16, 30, 48, 11, 2018, 4),\n",
       " ('2018-11-30 16:34:12.796000', 16, 30, 48, 11, 2018, 4),\n",
       " ('2018-11-30 16:35:57.796000', 16, 30, 48, 11, 2018, 4),\n",
       " ('2018-11-30 16:38:10.796000', 16, 30, 48, 11, 2018, 4),\n",
       " ('2018-11-30 16:39:12.796000', 16, 30, 48, 11, 2018, 4),\n",
       " ('2018-11-30 16:41:23.796000', 16, 30, 48, 11, 2018, 4),\n",
       " ('2018-11-30 16:43:28.796000', 16, 30, 48, 11, 2018, 4),\n",
       " ('2018-11-30 16:45:28.796000', 16, 30, 48, 11, 2018, 4),\n",
       " ('2018-11-30 16:49:06.796000', 16, 30, 48, 11, 2018, 4),\n",
       " ('2018-11-30 16:51:42.796000', 16, 30, 48, 11, 2018, 4),\n",
       " ('2018-11-30 16:55:41.796000', 16, 30, 48, 11, 2018, 4),\n",
       " ('2018-11-30 16:59:06.796000', 16, 30, 48, 11, 2018, 4),\n",
       " ('2018-11-30 17:03:03.796000', 17, 30, 48, 11, 2018, 4),\n",
       " ('2018-11-30 17:07:22.796000', 17, 30, 48, 11, 2018, 4),\n",
       " ('2018-11-30 17:11:16.796000', 17, 30, 48, 11, 2018, 4),\n",
       " ('2018-11-30 17:16:14.796000', 17, 30, 48, 11, 2018, 4),\n",
       " ('2018-11-30 17:19:28.796000', 17, 30, 48, 11, 2018, 4),\n",
       " ('2018-11-30 17:19:58.796000', 17, 30, 48, 11, 2018, 4),\n",
       " ('2018-11-30 17:22:01.796000', 17, 30, 48, 11, 2018, 4),\n",
       " ('2018-11-30 17:24:07.796000', 17, 30, 48, 11, 2018, 4),\n",
       " ('2018-11-30 17:25:36.796000', 17, 30, 48, 11, 2018, 4),\n",
       " ('2018-11-30 17:28:37.796000', 17, 30, 48, 11, 2018, 4),\n",
       " ('2018-11-30 17:30:27.796000', 17, 30, 48, 11, 2018, 4),\n",
       " ('2018-11-30 17:31:24.796000', 17, 30, 48, 11, 2018, 4),\n",
       " ('2018-11-30 17:34:27.796000', 17, 30, 48, 11, 2018, 4),\n",
       " ('2018-11-30 17:35:07.796000', 17, 30, 48, 11, 2018, 4),\n",
       " ('2018-11-30 17:39:08.796000', 17, 30, 48, 11, 2018, 4),\n",
       " ('2018-11-30 17:39:17.796000', 17, 30, 48, 11, 2018, 4),\n",
       " ('2018-11-30 17:42:58.796000', 17, 30, 48, 11, 2018, 4),\n",
       " ('2018-11-30 17:44:00.796000', 17, 30, 48, 11, 2018, 4),\n",
       " ('2018-11-30 17:45:41.796000', 17, 30, 48, 11, 2018, 4),\n",
       " ('2018-11-30 17:47:13.796000', 17, 30, 48, 11, 2018, 4),\n",
       " ('2018-11-30 17:48:55.796000', 17, 30, 48, 11, 2018, 4),\n",
       " ('2018-11-30 17:49:45.796000', 17, 30, 48, 11, 2018, 4),\n",
       " ('2018-11-30 17:53:44.796000', 17, 30, 48, 11, 2018, 4),\n",
       " ('2018-11-30 17:54:43.796000', 17, 30, 48, 11, 2018, 4),\n",
       " ('2018-11-30 17:57:24.796000', 17, 30, 48, 11, 2018, 4),\n",
       " ('2018-11-30 17:58:43.796000', 17, 30, 48, 11, 2018, 4),\n",
       " ('2018-11-30 18:03:19.796000', 18, 30, 48, 11, 2018, 4),\n",
       " ('2018-11-30 18:04:23.796000', 18, 30, 48, 11, 2018, 4),\n",
       " ('2018-11-30 18:08:07.796000', 18, 30, 48, 11, 2018, 4),\n",
       " ('2018-11-30 18:10:01.796000', 18, 30, 48, 11, 2018, 4),\n",
       " ('2018-11-30 18:13:36.796000', 18, 30, 48, 11, 2018, 4),\n",
       " ('2018-11-30 18:14:56.796000', 18, 30, 48, 11, 2018, 4),\n",
       " ('2018-11-30 18:16:20.796000', 18, 30, 48, 11, 2018, 4),\n",
       " ('2018-11-30 18:19:03.796000', 18, 30, 48, 11, 2018, 4),\n",
       " ('2018-11-30 18:19:33.796000', 18, 30, 48, 11, 2018, 4),\n",
       " ('2018-11-30 18:21:19.796000', 18, 30, 48, 11, 2018, 4),\n",
       " ('2018-11-30 18:21:46.796000', 18, 30, 48, 11, 2018, 4),\n",
       " ('2018-11-30 18:24:05.796000', 18, 30, 48, 11, 2018, 4),\n",
       " ('2018-11-30 18:26:12.796000', 18, 30, 48, 11, 2018, 4),\n",
       " ('2018-11-30 18:28:08.796000', 18, 30, 48, 11, 2018, 4),\n",
       " ('2018-11-30 18:29:02.796000', 18, 30, 48, 11, 2018, 4),\n",
       " ('2018-11-30 18:31:34.796000', 18, 30, 48, 11, 2018, 4),\n",
       " ('2018-11-30 18:32:46.796000', 18, 30, 48, 11, 2018, 4),\n",
       " ('2018-11-30 18:35:19.796000', 18, 30, 48, 11, 2018, 4),\n",
       " ('2018-11-30 18:36:25.796000', 18, 30, 48, 11, 2018, 4),\n",
       " ('2018-11-30 18:39:22.796000', 18, 30, 48, 11, 2018, 4),\n",
       " ('2018-11-30 18:40:05.796000', 18, 30, 48, 11, 2018, 4),\n",
       " ('2018-11-30 18:44:36.796000', 18, 30, 48, 11, 2018, 4),\n",
       " ('2018-11-30 18:47:58.796000', 18, 30, 48, 11, 2018, 4),\n",
       " ('2018-11-30 18:51:24.796000', 18, 30, 48, 11, 2018, 4),\n",
       " ('2018-11-30 19:54:24.796000', 19, 30, 48, 11, 2018, 4)]"
      ]
     },
     "execution_count": 19,
     "metadata": {},
     "output_type": "execute_result"
    }
   ],
   "source": [
    "time_data = list(zip(t.map(str).tolist(), t.dt.hour.tolist(), t.dt.day.tolist(), t.dt.week.tolist(), t.dt.month.tolist(), t.dt.year.tolist(), t.dt.weekday.tolist()))\n",
    "column_labels = ('timestamp', 'hour', 'day', 'week_of_year', 'month', 'year', 'weekday')\n",
    "time_data"
   ]
  },
  {
   "cell_type": "code",
   "execution_count": 20,
   "metadata": {
    "editable": true
   },
   "outputs": [
    {
     "data": {
      "text/html": [
       "<div>\n",
       "<style scoped>\n",
       "    .dataframe tbody tr th:only-of-type {\n",
       "        vertical-align: middle;\n",
       "    }\n",
       "\n",
       "    .dataframe tbody tr th {\n",
       "        vertical-align: top;\n",
       "    }\n",
       "\n",
       "    .dataframe thead th {\n",
       "        text-align: right;\n",
       "    }\n",
       "</style>\n",
       "<table border=\"1\" class=\"dataframe\">\n",
       "  <thead>\n",
       "    <tr style=\"text-align: right;\">\n",
       "      <th></th>\n",
       "      <th>timestamp</th>\n",
       "      <th>hour</th>\n",
       "      <th>day</th>\n",
       "      <th>week_of_year</th>\n",
       "      <th>month</th>\n",
       "      <th>year</th>\n",
       "      <th>weekday</th>\n",
       "    </tr>\n",
       "  </thead>\n",
       "  <tbody>\n",
       "    <tr>\n",
       "      <th>0</th>\n",
       "      <td>2018-11-30 00:22:07.796000</td>\n",
       "      <td>0</td>\n",
       "      <td>30</td>\n",
       "      <td>48</td>\n",
       "      <td>11</td>\n",
       "      <td>2018</td>\n",
       "      <td>4</td>\n",
       "    </tr>\n",
       "    <tr>\n",
       "      <th>1</th>\n",
       "      <td>2018-11-30 01:08:41.796000</td>\n",
       "      <td>1</td>\n",
       "      <td>30</td>\n",
       "      <td>48</td>\n",
       "      <td>11</td>\n",
       "      <td>2018</td>\n",
       "      <td>4</td>\n",
       "    </tr>\n",
       "    <tr>\n",
       "      <th>2</th>\n",
       "      <td>2018-11-30 01:12:48.796000</td>\n",
       "      <td>1</td>\n",
       "      <td>30</td>\n",
       "      <td>48</td>\n",
       "      <td>11</td>\n",
       "      <td>2018</td>\n",
       "      <td>4</td>\n",
       "    </tr>\n",
       "    <tr>\n",
       "      <th>3</th>\n",
       "      <td>2018-11-30 01:17:05.796000</td>\n",
       "      <td>1</td>\n",
       "      <td>30</td>\n",
       "      <td>48</td>\n",
       "      <td>11</td>\n",
       "      <td>2018</td>\n",
       "      <td>4</td>\n",
       "    </tr>\n",
       "    <tr>\n",
       "      <th>4</th>\n",
       "      <td>2018-11-30 01:20:56.796000</td>\n",
       "      <td>1</td>\n",
       "      <td>30</td>\n",
       "      <td>48</td>\n",
       "      <td>11</td>\n",
       "      <td>2018</td>\n",
       "      <td>4</td>\n",
       "    </tr>\n",
       "  </tbody>\n",
       "</table>\n",
       "</div>"
      ],
      "text/plain": [
       "                    timestamp  hour  day  week_of_year  month  year  weekday\n",
       "0  2018-11-30 00:22:07.796000     0   30            48     11  2018        4\n",
       "1  2018-11-30 01:08:41.796000     1   30            48     11  2018        4\n",
       "2  2018-11-30 01:12:48.796000     1   30            48     11  2018        4\n",
       "3  2018-11-30 01:17:05.796000     1   30            48     11  2018        4\n",
       "4  2018-11-30 01:20:56.796000     1   30            48     11  2018        4"
      ]
     },
     "execution_count": 20,
     "metadata": {},
     "output_type": "execute_result"
    }
   ],
   "source": [
    "time_df = pd.DataFrame(time_data, columns=column_labels)\n",
    "time_df.head()"
   ]
  },
  {
   "cell_type": "markdown",
   "metadata": {
    "editable": true
   },
   "source": [
    "#### Insert Records into Time Table\n",
    "Implement the `time_table_insert` query in `sql_queries.py` and run the cell below to insert records for the timestamps in this log file into the `time` table. Remember to run `create_tables.py` before running the cell below to ensure you've created/resetted the `time` table in the sparkify database."
   ]
  },
  {
   "cell_type": "code",
   "execution_count": 21,
   "metadata": {
    "editable": true
   },
   "outputs": [],
   "source": [
    "for i, row in time_df.iterrows():\n",
    "    cur.execute(time_table_insert, list(row))\n",
    "    conn.commit()"
   ]
  },
  {
   "cell_type": "markdown",
   "metadata": {
    "editable": true
   },
   "source": [
    "Run `test.ipynb` to see if you've successfully added records to this table."
   ]
  },
  {
   "cell_type": "markdown",
   "metadata": {
    "editable": true
   },
   "source": [
    "## #4: `users` Table\n",
    "#### Extract Data for Users Table\n",
    "- Select columns for user ID, first name, last name, gender and level and set to `user_df`"
   ]
  },
  {
   "cell_type": "code",
   "execution_count": 22,
   "metadata": {
    "editable": true
   },
   "outputs": [
    {
     "data": {
      "text/plain": [
       "array(['91', '73', '86', '24', '26', '49', '57', '30', '92', '74', '88',\n",
       "       '36', '12', '61', '43', '85', '50', '101', '16', '78', '33', '5'], dtype=object)"
      ]
     },
     "execution_count": 22,
     "metadata": {},
     "output_type": "execute_result"
    }
   ],
   "source": [
    "user_df = df[['userId', 'firstName', 'lastName', 'gender', 'level']]\n",
    "user_df = user_df[user_df['userId'] != '']\n",
    "user_df\n",
    "# user_df['userId'] = ''\n",
    "user_df['userId'].unique()"
   ]
  },
  {
   "cell_type": "markdown",
   "metadata": {
    "editable": true
   },
   "source": [
    "#### Insert Records into Users Table\n",
    "Implement the `user_table_insert` query in `sql_queries.py` and run the cell below to insert records for the users in this log file into the `users` table. Remember to run `create_tables.py` before running the cell below to ensure you've created/resetted the `users` table in the sparkify database."
   ]
  },
  {
   "cell_type": "code",
   "execution_count": 23,
   "metadata": {
    "editable": true
   },
   "outputs": [],
   "source": [
    "for i, row in user_df.iterrows():\n",
    "    cur.execute(user_table_insert, row)\n",
    "    conn.commit()"
   ]
  },
  {
   "cell_type": "markdown",
   "metadata": {
    "editable": true
   },
   "source": [
    "Run `test.ipynb` to see if you've successfully added records to this table."
   ]
  },
  {
   "cell_type": "markdown",
   "metadata": {
    "editable": true
   },
   "source": [
    "## #5: `songplays` Table\n",
    "#### Extract Data and Songplays Table\n",
    "This one is a little more complicated since information from the songs table, artists table, and original log file are all needed for the `songplays` table. Since the log file does not specify an ID for either the song or the artist, you'll need to get the song ID and artist ID by querying the songs and artists tables to find matches based on song title, artist name, and song duration time.\n",
    "- Implement the `song_select` query in `sql_queries.py` to find the song ID and artist ID based on the title, artist name, and duration of a song.\n",
    "- Select the timestamp, user ID, level, song ID, artist ID, session ID, location, and user agent and set to `songplay_data`\n",
    "\n",
    "#### Insert Records into Songplays Table\n",
    "- Implement the `songplay_table_insert` query and run the cell below to insert records for the songplay actions in this log file into the `songplays` table. Remember to run `create_tables.py` before running the cell below to ensure you've created/resetted the `songplays` table in the sparkify database."
   ]
  },
  {
   "cell_type": "code",
   "execution_count": 36,
   "metadata": {
    "editable": true
   },
   "outputs": [
    {
     "name": "stdout",
     "output_type": "stream",
     "text": [
      "                                                artist  \\\n",
      "0                                        Stephen Lynch   \n",
      "1                                              Manowar   \n",
      "2                                            Morcheeba   \n",
      "3                                             Maroon 5   \n",
      "4                                                Train   \n",
      "5                                                LMFAO   \n",
      "6                                             DJ Dizzy   \n",
      "7                              Fish Go Deep & Tracey K   \n",
      "9                                                  M83   \n",
      "10                                              Saybia   \n",
      "11                                       Local Natives   \n",
      "12                                          South Park   \n",
      "13                              UNKLE Feat. Josh Homme   \n",
      "14                                 Justyna Steczkowska   \n",
      "15                                         Evanescence   \n",
      "16                                            Coldplay   \n",
      "17                                            Hot Chip   \n",
      "18                                      Ellie Goulding   \n",
      "19                                      Postal Service   \n",
      "23                                        Jack Johnson   \n",
      "24                                       Iron And Wine   \n",
      "25                                              The xx   \n",
      "26                                         The Antlers   \n",
      "27                                          Fattburger   \n",
      "30                                         Chris Brown   \n",
      "31                                             Phoenix   \n",
      "33   Jim Lauderdale/Ralph Stanley & The Clinch Moun...   \n",
      "35                                               Musiq   \n",
      "36                      Cass McCombs feat. Karen Black   \n",
      "38                                     Scissor Sisters   \n",
      "..                                                 ...   \n",
      "356                                            Rihanna   \n",
      "357                                        Evanescence   \n",
      "358                                          Mr. Vegas   \n",
      "359                                     Mischa Daniels   \n",
      "360                                     The Menzingers   \n",
      "361                                  Justin Timberlake   \n",
      "362                             Vilma Palma e Vampiros   \n",
      "363                           CCCP - Fedeli Alla Linea   \n",
      "364                          Kid Cudi / MGMT / Ratatat   \n",
      "365            Drake / Kanye West / Lil Wayne / Eminem   \n",
      "366                                  A Day To Remember   \n",
      "367                                               T.I.   \n",
      "368                                      The Offspring   \n",
      "369                                     Jorge Gonzalez   \n",
      "370                                      Sneaker Pimps   \n",
      "371                                    Escape The Fate   \n",
      "372                                             Juanes   \n",
      "373                                   The Replacements   \n",
      "374                                    Sarah McLachlan   \n",
      "375                               Sonny Boy Williamson   \n",
      "376               Soul II Soul Featuring Caron Wheeler   \n",
      "377                             Florence + The Machine   \n",
      "378                                            Pantera   \n",
      "380                                               Cold   \n",
      "381                                            Norther   \n",
      "382                                       Foo Fighters   \n",
      "383                                         Timbiriche   \n",
      "384                                   A Perfect Circle   \n",
      "385                                           Anberlin   \n",
      "387                                          Deas Vail   \n",
      "\n",
      "                                                  song     length  \n",
      "0                                    Jim Henson's Dead  182.85669  \n",
      "1                                          Shell Shock  247.56200  \n",
      "2                 Women Lose Weight (Feat: Slick Rick)  257.41016  \n",
      "3                            Won't Go Home Without You  231.23546  \n",
      "4                                     Hey_ Soul Sister  216.76363  \n",
      "5                                   I'm In Miami Bitch  227.99628  \n",
      "6                                           Sexy Bitch  221.15220  \n",
      "7           The Cure & The Cause (Dennis Ferrer Remix)  377.41669  \n",
      "9                                        Staring At Me   96.18240  \n",
      "10                                The Second You Sleep  257.25342  \n",
      "11                                           Wide Eyes  266.05669  \n",
      "12                 La Resistance (Medley) (LP Version)  112.97914  \n",
      "13                                            Restless  307.19955  \n",
      "14                                              Noc...  333.53098  \n",
      "15                                            Like You  256.91383  \n",
      "16                      God Put A Smile Upon Your Face  297.35138  \n",
      "17                                             Playboy  333.50485  \n",
      "18                                   Every Time You Go  205.06077  \n",
      "19                              Natural Anthem (Album)  307.53914  \n",
      "23                                              Taylor  240.06485  \n",
      "24                                     Naked As We Can  153.05098  \n",
      "25                                             Fantasy  158.24934  \n",
      "26                                            Epilogue  328.88118  \n",
      "27                                            Groovin'  217.20771  \n",
      "30                    Ain't No Way (You Won't Love Me)  203.80689  \n",
      "31                                                Rome  278.07302  \n",
      "33                             Highway Through My Home  127.05914  \n",
      "35                                                 143  297.84771  \n",
      "36                               Dreams-Come-True-Girl  322.06322  \n",
      "38                           I Don't Feel Like Dancin'  352.52200  \n",
      "..                                                 ...        ...  \n",
      "356                                                G4L  239.75138  \n",
      "357                                              Hello  220.34240  \n",
      "358                                             Tamale  240.69179  \n",
      "359                                      Another Place  419.81342  \n",
      "360                                   Straight To Hell  276.00934  \n",
      "361                                     Cry Me A River  288.93995  \n",
      "362                                Un Camino Hasta Vos  338.18077  \n",
      "363                       Sura (2008 Digital Remaster)  329.66485  \n",
      "364                   Pursuit Of Happiness (nightmare)  295.67955  \n",
      "365                                            Forever  357.66812  \n",
      "366                                Homesick [Acoustic]  247.64036  \n",
      "367  Dead And Gone [feat. Justin Timberlake] (Expli...  299.75465  \n",
      "368               It'll Be a Long Time (Album Version)  163.31710  \n",
      "369                      Esta Es Para Hacerte FÃÂ©liz  272.14322  \n",
      "370                                    Spin Spin Sugar  260.91057  \n",
      "371               This War Is Ours (The Guillotine II)  266.73587  \n",
      "372                               La Vida Es Un Ratico  243.27791  \n",
      "373                                         Never Mind  170.57914  \n",
      "374                                         Possession  278.90893  \n",
      "375                             Don't Start Me Talkin'  152.24118  \n",
      "376  Back To Life (However Do You Want Me) (2003 Di...  225.22730  \n",
      "377                     Dog Days Are Over (Radio Edit)  219.66322  \n",
      "378                               Heresy  (LP Version)  286.69342  \n",
      "380                                             Remedy  177.76281  \n",
      "381                                       Frozen Angel  246.54322  \n",
      "382                                      The Pretender  271.38567  \n",
      "383                                    Besos De Ceniza  202.60526  \n",
      "384                                               Rose  206.05342  \n",
      "385                                       The Haunting  348.68200  \n",
      "387              Anything You Say (Unreleased Version)  237.68771  \n",
      "\n",
      "[330 rows x 3 columns]\n"
     ]
    },
    {
     "ename": "IndexError",
     "evalue": "tuple index out of range",
     "output_type": "error",
     "traceback": [
      "\u001b[0;31m---------------------------------------------------------------------------\u001b[0m",
      "\u001b[0;31mIndexError\u001b[0m                                Traceback (most recent call last)",
      "\u001b[0;32m<ipython-input-36-874756c2a22e>\u001b[0m in \u001b[0;36m<module>\u001b[0;34m()\u001b[0m\n\u001b[1;32m      3\u001b[0m \u001b[0;34m\u001b[0m\u001b[0m\n\u001b[1;32m      4\u001b[0m     \u001b[0;31m# get songid and artistid from song and artist tables\u001b[0m\u001b[0;34m\u001b[0m\u001b[0;34m\u001b[0m\u001b[0m\n\u001b[0;32m----> 5\u001b[0;31m     \u001b[0mcur\u001b[0m\u001b[0;34m.\u001b[0m\u001b[0mexecute\u001b[0m\u001b[0;34m(\u001b[0m\u001b[0msong_select\u001b[0m\u001b[0;34m,\u001b[0m \u001b[0;34m(\u001b[0m\u001b[0mrow\u001b[0m\u001b[0;34m.\u001b[0m\u001b[0msong\u001b[0m\u001b[0;34m,\u001b[0m \u001b[0mrow\u001b[0m\u001b[0;34m.\u001b[0m\u001b[0martist\u001b[0m\u001b[0;34m,\u001b[0m \u001b[0;34m)\u001b[0m\u001b[0;34m)\u001b[0m \u001b[0;31m# row.length\u001b[0m\u001b[0;34m\u001b[0m\u001b[0m\n\u001b[0m\u001b[1;32m      6\u001b[0m     \u001b[0mresults\u001b[0m \u001b[0;34m=\u001b[0m \u001b[0mcur\u001b[0m\u001b[0;34m.\u001b[0m\u001b[0mfetchone\u001b[0m\u001b[0;34m(\u001b[0m\u001b[0;34m)\u001b[0m\u001b[0;34m\u001b[0m\u001b[0m\n\u001b[1;32m      7\u001b[0m     \u001b[0mprint\u001b[0m\u001b[0;34m(\u001b[0m\u001b[0mresults\u001b[0m\u001b[0;34m)\u001b[0m\u001b[0;34m\u001b[0m\u001b[0m\n",
      "\u001b[0;31mIndexError\u001b[0m: tuple index out of range"
     ]
    }
   ],
   "source": [
    "print(df[['artist', 'song', 'length']])\n",
    "for index, row in df.iterrows():\n",
    "\n",
    "    # get songid and artistid from song and artist tables\n",
    "    cur.execute(song_select, (row.song, row.artist, )) # row.length\n",
    "    results = cur.fetchone()\n",
    "    print(results)\n",
    "    if results:\n",
    "        songid, artistid = results\n",
    "    else:\n",
    "        songid, artistid = None, None\n",
    "#     print(songid, artistid)\n",
    "\n",
    "    # insert songplay record\n",
    "    # (songplay_id, start_time, user_id, level, song_id, artist_id, session_id, location, user_agent) \\\n",
    "    songplay_data = (index+1, str(row['ts']), row['userId'], row['level'], songid, artistid, row['sessionId'], row['location'], row['userAgent'])\n",
    "#     print(songplay_data)\n",
    "    cur.execute(songplay_table_insert, songplay_data)\n",
    "    conn.commit()"
   ]
  },
  {
   "cell_type": "markdown",
   "metadata": {
    "editable": true
   },
   "source": [
    "Run `test.ipynb` to see if you've successfully added records to this table."
   ]
  },
  {
   "cell_type": "markdown",
   "metadata": {
    "editable": true
   },
   "source": [
    "# Close Connection to Sparkify Database"
   ]
  },
  {
   "cell_type": "code",
   "execution_count": 24,
   "metadata": {
    "editable": true
   },
   "outputs": [],
   "source": [
    "conn.close()"
   ]
  },
  {
   "cell_type": "markdown",
   "metadata": {
    "editable": true
   },
   "source": [
    "# Implement `etl.py`\n",
    "Use what you've completed in this notebook to implement `etl.py`."
   ]
  },
  {
   "cell_type": "code",
   "execution_count": null,
   "metadata": {
    "editable": true
   },
   "outputs": [],
   "source": []
  }
 ],
 "metadata": {
  "kernelspec": {
   "display_name": "Python 3",
   "language": "python",
   "name": "python3"
  },
  "language_info": {
   "codemirror_mode": {
    "name": "ipython",
    "version": 3
   },
   "file_extension": ".py",
   "mimetype": "text/x-python",
   "name": "python",
   "nbconvert_exporter": "python",
   "pygments_lexer": "ipython3",
   "version": "3.6.3"
  }
 },
 "nbformat": 4,
 "nbformat_minor": 4
}
